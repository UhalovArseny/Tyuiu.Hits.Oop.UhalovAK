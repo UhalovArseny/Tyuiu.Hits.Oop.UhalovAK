{
 "cells": [
  {
   "cell_type": "code",
   "execution_count": 1,
   "id": "eca36399",
   "metadata": {},
   "outputs": [
    {
     "name": "stdout",
     "output_type": "stream",
     "text": [
      "Высота растения Роза: 45 см.\n",
      "Высота растения Дуб: 170 см.\n",
      "Цветок Роза распускает!\n",
      "Дерево Дуб разрастается!\n",
      "Дерево Дуб взрослеет: возраст 12 лет, высота 190 см.\n",
      "Цветок Роза распускает!\n",
      "Дерево Дуб разрастается!\n"
     ]
    }
   ],
   "source": [
    "public class Plant {\n",
    "    public string Name { get; set; }\n",
    "    public string Type { get; set; }\n",
    "    public float Height { get; set; }\n",
    "\n",
    "    public Plant(string name, string type, float height)\n",
    "    {\n",
    "        Name = name;\n",
    "        Type = type;\n",
    "        Height = height;\n",
    "    }\n",
    "\n",
    "    public virtual void Grow() {\n",
    "        Console.WriteLine($\"Растение {Name} цветет\");\n",
    "    }\n",
    "\n",
    "    public void Growing(float increment)\n",
    "    {\n",
    "        Height += increment;\n",
    "        Console.WriteLine($\"Высота растения {Name}: {Height} см.\");\n",
    "    }\n",
    "\n",
    "}\n",
    "\n",
    "public class Flower : Plant\n",
    "{\n",
    "    public string Color { get; set; }\n",
    "    public int PetalCount { get; set; }\n",
    "\n",
    "    public Flower(string name, float height, string color, int petalCount)\n",
    "        : base(name, \"Цветок\", height)\n",
    "    {\n",
    "        Color = color;\n",
    "        PetalCount = petalCount;\n",
    "    }\n",
    "\n",
    "    public override void Grow()\n",
    "    {\n",
    "        Console.WriteLine($\"Цветок {Name} распускает!\");\n",
    "    }\n",
    "\n",
    "    public void Fade() {\n",
    "        Console.WriteLine($\"Цветок {Name} увядает!\");\n",
    "    }\n",
    "\n",
    "}\n",
    "\n",
    "public class Tree : Plant\n",
    "{\n",
    "    public int Age { get; set; }\n",
    "    public string LeafType { get; set; }\n",
    "\n",
    "    public Tree(string name, float height, int age, string leafType)\n",
    "        : base(name, \"Дерево\", height)\n",
    "    {\n",
    "        Age = age;\n",
    "        LeafType = leafType;\n",
    "    }\n",
    "\n",
    "    public override void Grow()\n",
    "    {\n",
    "        Console.WriteLine($\"Дерево {Name} разрастается!\");\n",
    "    }\n",
    "\n",
    "    public void GrowYear(int years)\n",
    "    {\n",
    "        Age += years;\n",
    "        Height += years * 10; // ну допустим растет за год на 10 см\n",
    "        Console.WriteLine($\"Дерево {Name} взрослеет: возраст {Age} лет, высота {Height} см.\");\n",
    "    }\n",
    "}\n",
    "\n",
    "Flower rose = new Flower(\"Роза\", 40, \"Красный\", 25);\n",
    "Tree oak = new Tree(\"Дуб\", 150, 10, \"Лопастные\");\n",
    "\n",
    "rose.Growing(5);\n",
    "oak.Growing(20);\n",
    "\n",
    "rose.Grow();\n",
    "oak.Grow();\n",
    "\n",
    "oak.GrowYear(2);\n",
    "\n",
    "// полиморфизм\n",
    "Plant[] plants = { rose, oak };\n",
    "foreach (Plant plant in plants)\n",
    "{\n",
    "    plant.Grow();\n",
    "}"
   ]
  }
 ],
 "metadata": {
  "kernelspec": {
   "display_name": ".NET (C#)",
   "language": "C#",
   "name": ".net-csharp"
  },
  "language_info": {
   "name": "polyglot-notebook"
  },
  "polyglot_notebook": {
   "kernelInfo": {
    "defaultKernelName": "csharp",
    "items": [
     {
      "aliases": [],
      "name": "csharp"
     }
    ]
   }
  }
 },
 "nbformat": 4,
 "nbformat_minor": 5
}
