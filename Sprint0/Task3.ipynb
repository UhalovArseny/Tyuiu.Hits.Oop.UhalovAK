{
 "cells": [
  {
   "cell_type": "markdown",
   "metadata": {},
   "source": [
    "<h1 style=\"color:DodgerBlue\">Индивидальный проект</h1>"
   ]
  },
  {
   "cell_type": "markdown",
   "metadata": {},
   "source": [
    "<h2 style=\"color:DodgerBlue\">Название проекта:</h2>\n",
    "\n",
    "----\n",
    "\n",
    "### Вариант задания №23\n"
   ]
  },
  {
   "cell_type": "markdown",
   "metadata": {},
   "source": [
    "<h2 style=\"color:DodgerBlue\">Описание проекта:</h2>\n",
    "\n",
    "----\n",
    "\n",
    "Создать базовый класс Task в C#, который будет представлять задачи внутри\n",
    "проекта. На основе этого класса разработать 2-3 производных класса,\n",
    "демонстрирующих принципы наследования и полиморфизма. В каждом из классов\n",
    "должны быть реализованы новые атрибуты и методы, а также переопределены\n",
    "некоторые методы базового класса для демонстрации полиморфизма\n"
   ]
  },
  {
   "cell_type": "markdown",
   "metadata": {},
   "source": [
    "<h2 style=\"color:DodgerBlue\">Реализация:</h2>\n",
    "\n",
    "----"
   ]
  },
  {
   "cell_type": "code",
   "execution_count": 4,
   "metadata": {
    "dotnet_interactive": {
     "language": "csharp"
    },
    "polyglot_notebook": {
     "kernelName": "csharp"
    }
   },
   "outputs": [
    {
     "name": "stdout",
     "output_type": "stream",
     "text": [
      "ID: 1, Название: Обычная задача, Приоритет: Высокий\n",
      "ID: 2, Название: Делегатская, Приоритет: Средний, Дата выполнения: 16.09.2025\n",
      "ID: 3, Название: Командная, Приоритет: Низкий, Команда: Разработчики\n",
      "Делегатская задача выполнена. Дата: 16.09.2025\n",
      "Командная задача переназначена в команде 'Разработчики' на: Новый сотрудник\n"
     ]
    }
   ],
   "source": [
    "using System;\n",
    "\n",
    "// Базовый класс Task\n",
    "public class Task\n",
    "{\n",
    "    public int TaskId { get; set; }\n",
    "    public string TaskName { get; set; }\n",
    "    public string Priority { get; set; }\n",
    "    \n",
    "    public Task(int taskId, string taskName, string priority)\n",
    "    {\n",
    "        TaskId = taskId;\n",
    "        TaskName = taskName;\n",
    "        Priority = priority;\n",
    "    }\n",
    "    \n",
    "    public virtual void MarkAsComplete()\n",
    "    {\n",
    "        Console.WriteLine($\"Задача '{TaskName}' выполнена.\");\n",
    "    }\n",
    "    \n",
    "    public virtual string GetTaskDetails()\n",
    "    {\n",
    "        return $\"ID: {TaskId}, Название: {TaskName}, Приоритет: {Priority}\";\n",
    "    }\n",
    "    \n",
    "    public virtual void ReassignTo(string newAssignee)\n",
    "    {\n",
    "        Console.WriteLine($\"Задача переназначена на: {newAssignee}\");\n",
    "    }\n",
    "}\n",
    "\n",
    "// ДелегатскаяЗадача\n",
    "public class DelegateTask : Task\n",
    "{\n",
    "    public DateTime DueDate { get; set; }\n",
    "    \n",
    "    public DelegateTask(int taskId, string taskName, string priority, DateTime dueDate) \n",
    "        : base(taskId, taskName, priority)\n",
    "    {\n",
    "        DueDate = dueDate;\n",
    "    }\n",
    "    \n",
    "    public override void MarkAsComplete()\n",
    "    {\n",
    "        Console.WriteLine($\"Делегатская задача выполнена. Дата: {DueDate:dd.MM.yyyy}\");\n",
    "    }\n",
    "    \n",
    "    public override string GetTaskDetails()\n",
    "    {\n",
    "        return base.GetTaskDetails() + $\", Дата выполнения: {DueDate:dd.MM.yyyy}\";\n",
    "    }\n",
    "}\n",
    "\n",
    "// КоманднаяЗадача\n",
    "public class TeamTask : Task\n",
    "{\n",
    "    public string TeamName { get; set; }\n",
    "    \n",
    "    public TeamTask(int taskId, string taskName, string priority, string teamName) \n",
    "        : base(taskId, taskName, priority)\n",
    "    {\n",
    "        TeamName = teamName;\n",
    "    }\n",
    "    \n",
    "    public override void ReassignTo(string newAssignee)\n",
    "    {\n",
    "        Console.WriteLine($\"Командная задача переназначена в команде '{TeamName}' на: {newAssignee}\");\n",
    "    }\n",
    "    \n",
    "    public override string GetTaskDetails()\n",
    "    {\n",
    "        return base.GetTaskDetails() + $\", Команда: {TeamName}\";\n",
    "    }\n",
    "}\n",
    "\n",
    "// Глобальный код (entry point)\n",
    "Task task1 = new Task(1, \"Обычная задача\", \"Высокий\");\n",
    "Task task2 = new DelegateTask(2, \"Делегатская\", \"Средний\", DateTime.Now.AddDays(5));\n",
    "Task task3 = new TeamTask(3, \"Командная\", \"Низкий\", \"Разработчики\");\n",
    "\n",
    "Console.WriteLine(task1.GetTaskDetails());\n",
    "Console.WriteLine(task2.GetTaskDetails());\n",
    "Console.WriteLine(task3.GetTaskDetails());\n",
    "\n",
    "task2.MarkAsComplete();\n",
    "task3.ReassignTo(\"Новый сотрудник\");"
   ]
  }
 ],
 "metadata": {
  "kernelspec": {
   "display_name": ".NET (C#)",
   "language": "C#",
   "name": ".net-csharp"
  },
  "polyglot_notebook": {
   "kernelInfo": {
    "defaultKernelName": "csharp",
    "items": [
     {
      "aliases": [],
      "languageName": "csharp",
      "name": "csharp"
     }
    ]
   }
  }
 },
 "nbformat": 4,
 "nbformat_minor": 2
}
